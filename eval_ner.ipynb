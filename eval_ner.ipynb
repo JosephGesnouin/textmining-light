{
 "cells": [
  {
   "cell_type": "code",
   "execution_count": 1,
   "metadata": {},
   "outputs": [],
   "source": [
    "import spacy\n",
    "import json\n",
    "from spacy import displacy\n",
    "from tqdm import tqdm_notebook, tqdm\n",
    "import glob\n",
    "from spacy.gold import GoldParse\n",
    "from spacy.scorer import Scorer\n",
    "from nltk import tokenize"
   ]
  },
  {
   "cell_type": "markdown",
   "metadata": {},
   "source": [
    "### Fonction evaluate"
   ]
  },
  {
   "cell_type": "code",
   "execution_count": 3,
   "metadata": {},
   "outputs": [],
   "source": [
    "def evaluate_by_ent(nlp, examples, ent='GENE'):\n",
    "    scorer = Scorer()\n",
    "    for input_, annot in tqdm_notebook(examples):\n",
    "        try:\n",
    "            text_entities = []\n",
    "            for entity in annot.get('entities'):\n",
    "                if ent in entity:\n",
    "                    text_entities.append(entity)\n",
    "            doc_gold_text = nlp.make_doc(input_)\n",
    "            gold = GoldParse(doc_gold_text, entities=text_entities)\n",
    "            pred_value = nlp(input_)\n",
    "            scorer.score(pred_value, gold)\n",
    "        except:\n",
    "            pass\n",
    "    return scorer.scores\n",
    "\n",
    "def evaluate(ner_model, examples):\n",
    "    scorer = Scorer()\n",
    "    for input_, annot in tqdm_notebook(examples):\n",
    "        try:\n",
    "            doc_gold_text = ner_model.make_doc(input_)\n",
    "            gold = GoldParse(doc_gold_text, entities=annot[\"entities\"])\n",
    "            pred_value = ner_model(input_)\n",
    "            scorer.score(pred_value, gold)\n",
    "        except:\n",
    "            pass\n",
    "    return scorer.scores"
   ]
  },
  {
   "cell_type": "markdown",
   "metadata": {},
   "source": [
    "### Load data"
   ]
  },
  {
   "cell_type": "code",
   "execution_count": 4,
   "metadata": {},
   "outputs": [],
   "source": [
    "TEST_DATA = []\n",
    "files = glob.glob(\"test/normal/*.json\")\n",
    "for f in files:\n",
    "    with open(f) as fl:\n",
    "        js = json.load(fl)\n",
    "        for j in js:\n",
    "            TEST_DATA.append(tuple(j))"
   ]
  },
  {
   "cell_type": "markdown",
   "metadata": {},
   "source": [
    "### Load model "
   ]
  },
  {
   "cell_type": "code",
   "execution_count": 247,
   "metadata": {},
   "outputs": [],
   "source": [
    "nlp = spacy.load(\"models/fs_normal/epoch_32\")"
   ]
  },
  {
   "cell_type": "markdown",
   "metadata": {},
   "source": [
    "#### score general"
   ]
  },
  {
   "cell_type": "code",
   "execution_count": 79,
   "metadata": {},
   "outputs": [],
   "source": [
    "res = evaluate(nlp, TEST_DATA[0:50000])"
   ]
  },
  {
   "cell_type": "code",
   "execution_count": 26,
   "metadata": {},
   "outputs": [
    {
     "data": {
      "text/plain": [
       "{u'ents_f': 87.95439401791663,\n",
       " u'ents_p': 90.70779567839963,\n",
       " u'ents_r': 85.36322483293813,\n",
       " u'las': 0.0,\n",
       " u'tags_acc': 0.0,\n",
       " u'token_acc': 100.0,\n",
       " u'uas': 0.0}"
      ]
     },
     "execution_count": 26,
     "metadata": {},
     "output_type": "execute_result"
    }
   ],
   "source": [
    "res"
   ]
  },
  {
   "cell_type": "code",
   "execution_count": null,
   "metadata": {},
   "outputs": [],
   "source": []
  },
  {
   "cell_type": "markdown",
   "metadata": {},
   "source": [
    "#### Evaluation on NCBItestset_corpus"
   ]
  },
  {
   "cell_type": "code",
   "execution_count": 184,
   "metadata": {},
   "outputs": [],
   "source": [
    "nlp = spacy.load(\"models/fs_normal_ncbi/epoch_71/\")"
   ]
  },
  {
   "cell_type": "code",
   "execution_count": 185,
   "metadata": {},
   "outputs": [],
   "source": [
    "with open(\"test/normal_NCBI/test_set_NCBI_only.json\") as g:\n",
    "    NCBI_TEST = json.load(g)"
   ]
  },
  {
   "cell_type": "code",
   "execution_count": 199,
   "metadata": {},
   "outputs": [
    {
     "data": {
      "application/vnd.jupyter.widget-view+json": {
       "model_id": "a98bc57c5f2d41f7b92c6ff36accd775",
       "version_major": 2,
       "version_minor": 0
      },
      "text/plain": [
       "HBox(children=(IntProgress(value=0, max=99), HTML(value=u'')))"
      ]
     },
     "metadata": {},
     "output_type": "display_data"
    }
   ],
   "source": [
    "res = evaluate(nlp, NCBI_TEST)"
   ]
  },
  {
   "cell_type": "code",
   "execution_count": 200,
   "metadata": {},
   "outputs": [
    {
     "data": {
      "text/plain": [
       "{u'ents_f': 85.23063901819721,\n",
       " u'ents_p': 88.33333333333333,\n",
       " u'ents_r': 82.33851185609157,\n",
       " u'las': 0.0,\n",
       " u'tags_acc': 0.0,\n",
       " u'token_acc': 100.0,\n",
       " u'uas': 0.0}"
      ]
     },
     "execution_count": 200,
     "metadata": {},
     "output_type": "execute_result"
    }
   ],
   "source": [
    "res"
   ]
  },
  {
   "cell_type": "code",
   "execution_count": null,
   "metadata": {},
   "outputs": [],
   "source": []
  },
  {
   "cell_type": "code",
   "execution_count": null,
   "metadata": {},
   "outputs": [],
   "source": []
  },
  {
   "cell_type": "code",
   "execution_count": null,
   "metadata": {},
   "outputs": [],
   "source": []
  },
  {
   "cell_type": "code",
   "execution_count": 267,
   "metadata": {},
   "outputs": [],
   "source": [
    "# res2 = evaluate_by_ent(nlp, NCBI_TEST, \"DISEASE\")\n",
    "# res2"
   ]
  },
  {
   "cell_type": "code",
   "execution_count": 268,
   "metadata": {},
   "outputs": [],
   "source": [
    "# res2 = evaluate_by_ent(nlp, NCBI_TEST, \"GENE\")\n",
    "# res2"
   ]
  },
  {
   "cell_type": "code",
   "execution_count": 223,
   "metadata": {},
   "outputs": [],
   "source": [
    "# alld = []\n",
    "# allg = []\n",
    "# for dg in NCBI_TEST[0:1]:\n",
    "#     if dg[1][\"entities\"] :\n",
    "#         for d  in dg[1][\"entities\"]:\n",
    "#             if d[2] == \"DISEASE\":\n",
    "#                 allg.append(dg[0][d[0]:d[1]])\n",
    "#             if d[2] == \"GENE\":\n",
    "# #                 print()\n",
    "# #                 print(dg[0][d[0]:d[1]], d[2])\n",
    "# #                 if dg[0][d[0]:d[1]] == \"set\":\n",
    "# #                     print(dg)\n",
    "#                 alld.append(dg[0][d[0]:d[1]])"
   ]
  },
  {
   "cell_type": "code",
   "execution_count": 269,
   "metadata": {},
   "outputs": [],
   "source": [
    "# allg"
   ]
  },
  {
   "cell_type": "code",
   "execution_count": 86,
   "metadata": {},
   "outputs": [],
   "source": [
    "# c = 0\n",
    "# val = []\n",
    "# ent = sorted(TEST_DATA[5][1][\"entities\"], reverse=True)\n",
    "# for t in text.split(\" \"):\n",
    "#     c += len(t)-1\n",
    "#     if ent:\n",
    "#         if c+1 > ent[-1][0]: \n",
    "#             val.append((t, ent[-1][2]))\n",
    "#             ent.pop()\n",
    "#         else:\n",
    "#             val.append((t, \"default\"))\n",
    "#     else:\n",
    "#         val.append((t, \"default\"))"
   ]
  },
  {
   "cell_type": "code",
   "execution_count": 25,
   "metadata": {},
   "outputs": [],
   "source": [
    "# doc = nlp2(unicode(datas[8:2000]))"
   ]
  },
  {
   "cell_type": "code",
   "execution_count": 25,
   "metadata": {},
   "outputs": [],
   "source": [
    "# print(\"Entities\", [(ent.text, ent.label_) for ent in doc.ents])"
   ]
  },
  {
   "cell_type": "code",
   "execution_count": 24,
   "metadata": {},
   "outputs": [],
   "source": [
    "# [(t.text, t.ent_type_ if t.ent_type_ else \"default\") for t in doc]"
   ]
  },
  {
   "cell_type": "code",
   "execution_count": 10,
   "metadata": {},
   "outputs": [],
   "source": [
    "# displacy.render(doc, style='ent', jupyter=True)"
   ]
  },
  {
   "cell_type": "code",
   "execution_count": 17,
   "metadata": {},
   "outputs": [],
   "source": [
    "# nlp = spacy.load('en')\n",
    "# doc = nlp(u'This is a sentence.')\n",
    "# displacy.serve(doc, style='ent')"
   ]
  }
 ],
 "metadata": {
  "kernelspec": {
   "display_name": "Python 3",
   "language": "python",
   "name": "python3"
  },
  "language_info": {
   "codemirror_mode": {
    "name": "ipython",
    "version": 2
   },
   "file_extension": ".py",
   "mimetype": "text/x-python",
   "name": "python",
   "nbconvert_exporter": "python",
   "pygments_lexer": "ipython2",
   "version": "2.7.15rc1"
  }
 },
 "nbformat": 4,
 "nbformat_minor": 2
}
